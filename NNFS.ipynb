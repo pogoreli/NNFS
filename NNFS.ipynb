{
  "nbformat": 4,
  "nbformat_minor": 0,
  "metadata": {
    "colab": {
      "provenance": [],
      "authorship_tag": "ABX9TyNcxkZ8RhvTkUYj7uvVKOy3",
      "include_colab_link": true
    },
    "kernelspec": {
      "name": "python3",
      "display_name": "Python 3"
    },
    "language_info": {
      "name": "python"
    }
  },
  "cells": [
    {
      "cell_type": "markdown",
      "metadata": {
        "id": "view-in-github",
        "colab_type": "text"
      },
      "source": [
        "<a href=\"https://colab.research.google.com/github/pogoreli/NNFS/blob/main/NNFS.ipynb\" target=\"_parent\"><img src=\"https://colab.research.google.com/assets/colab-badge.svg\" alt=\"Open In Colab\"/></a>"
      ]
    },
    {
      "cell_type": "code",
      "source": [
        "!pip install nnfs"
      ],
      "metadata": {
        "colab": {
          "base_uri": "https://localhost:8080/"
        },
        "id": "qfF_c_-VuYMK",
        "outputId": "1540fe2d-c5c0-4cdc-8154-546a471152cf"
      },
      "execution_count": null,
      "outputs": [
        {
          "output_type": "stream",
          "name": "stdout",
          "text": [
            "Collecting nnfs\n",
            "  Downloading nnfs-0.5.1-py3-none-any.whl (9.1 kB)\n",
            "Requirement already satisfied: numpy in /usr/local/lib/python3.10/dist-packages (from nnfs) (1.22.4)\n",
            "Installing collected packages: nnfs\n",
            "Successfully installed nnfs-0.5.1\n"
          ]
        }
      ]
    },
    {
      "cell_type": "code",
      "execution_count": null,
      "metadata": {
        "id": "JxBV_r_9Q_Ew"
      },
      "outputs": [],
      "source": [
        "import numpy as np\n",
        "from nnfs.datasets import spiral_data"
      ]
    },
    {
      "cell_type": "code",
      "source": [
        "class Activation_ReLU:\n",
        "  def forward(self, inputs):\n",
        "    self.output = np.maximum(0, inputs)"
      ],
      "metadata": {
        "id": "ZZE2NQpDUB44"
      },
      "execution_count": null,
      "outputs": []
    },
    {
      "cell_type": "code",
      "source": [
        "class Layer_Dense:\n",
        "  def __init__(self, n_inputs, n_neurons):\n",
        "    self.weights = 0.01 * np.random.randn(n_inputs, n_neurons)\n",
        "    self.biases = np.zeros((1, n_neurons))\n",
        "\n",
        "  def forward(self, inputs):\n",
        "    self.output = np.dot(inputs, self.weights) + self.biases"
      ],
      "metadata": {
        "id": "l3Phff37UqqY"
      },
      "execution_count": null,
      "outputs": []
    },
    {
      "cell_type": "code",
      "source": [
        "class Activation_Softmax:\n",
        "  def forward(self, inputs):\n",
        "    exp_values = np.exp(inputs - np.max(inputs, axis = 1, keepdims = True))\n",
        "    probabilities = exp_values / np.sum(exp_values, axis = 1, keepdims = True)\n",
        "    self.output = probabilities"
      ],
      "metadata": {
        "id": "dEbXyP_Nrf8R"
      },
      "execution_count": null,
      "outputs": []
    },
    {
      "cell_type": "code",
      "source": [
        "class Loss:\n",
        "  def calculate(self, output, y):\n",
        "    sample_losses = self.forward(output, y)\n",
        "    data_loss = np.mean(sample_losses)\n",
        "    return data_loss"
      ],
      "metadata": {
        "id": "wlOUzgFQXGpI"
      },
      "execution_count": null,
      "outputs": []
    },
    {
      "cell_type": "code",
      "source": [
        "class Loss_CategoricalCrossentropy(Loss):\n",
        "  def forward(self, y_pred, y_true):\n",
        "    samples = len(y_pred)\n",
        "    y_pred_clipped = np.clip(y_pred, (1e-7), 1 - (1e-7))\n",
        "\n",
        "    if len(y_true.shape) == 1:\n",
        "      correct_confidences = y_pred_clipped[\n",
        "          range(samples),\n",
        "          y_true\n",
        "      ]\n",
        "\n",
        "    elif len(y_true.shape) == 2:\n",
        "      correct_confidences = np.sum(\n",
        "          y_pred_clipped * y_true,\n",
        "          axis=1\n",
        "      )\n",
        "\n",
        "    negative_log_likelihoods = -np.log(correct_confidences)\n",
        "    return negative_log_likelihoods"
      ],
      "metadata": {
        "id": "Wtr_80VEXuwo"
      },
      "execution_count": null,
      "outputs": []
    },
    {
      "cell_type": "code",
      "source": [
        "inputs =  [0, 2, -1, 3.3, -2.7, 1.1, 2.2, -100]"
      ],
      "metadata": {
        "id": "s7z3bN9XUbCI"
      },
      "execution_count": null,
      "outputs": []
    },
    {
      "cell_type": "code",
      "source": [
        "X, y = spiral_data(samples=100, classes=3)\n",
        "dense1 = Layer_Dense(2, 3)\n",
        "activation1 = Activation_ReLU()\n",
        "dense2 = Layer_Dense(3, 3)\n",
        "activation2 = Activation_Softmax()\n",
        "loss_function = Loss_CategoricalCrossentropy()\n",
        "dense1.forward(X)\n",
        "activation1.forward(dense1.output)\n",
        "dense2.forward(activation1.output)\n",
        "activation2.forward(dense2.output)\n",
        "print(activation2.output[:5])\n",
        "loss = loss_function.calculate(activation2.output, y)\n",
        "print(\"loss: \", loss)\n",
        "\n",
        "\n",
        "predictions = np.argmax(activation2.output, axis=1)\n",
        "if len(y.shape) == 2:\n",
        "  y = np.argmax(y, axis = 1)\n",
        "accuracy = np.mean(predictions == y)\n",
        "print('acc: ', accuracy)\n"
      ],
      "metadata": {
        "colab": {
          "base_uri": "https://localhost:8080/"
        },
        "id": "Zbj7q3_4Uol3",
        "outputId": "e94ca5d5-99d2-43fb-d828-6dff2d1a8394"
      },
      "execution_count": null,
      "outputs": [
        {
          "output_type": "stream",
          "name": "stdout",
          "text": [
            "[[0.33333333 0.33333333 0.33333333]\n",
            " [0.33333293 0.33333374 0.33333332]\n",
            " [0.33333238 0.33333431 0.33333331]\n",
            " [0.33333187 0.33333483 0.3333333 ]\n",
            " [0.33333138 0.33333533 0.33333329]]\n",
            "loss:  1.0986106002471583\n",
            "acc:  0.35333333333333333\n"
          ]
        }
      ]
    },
    {
      "cell_type": "code",
      "source": [],
      "metadata": {
        "id": "GCJYBcTyjPf4"
      },
      "execution_count": null,
      "outputs": []
    }
  ]
}